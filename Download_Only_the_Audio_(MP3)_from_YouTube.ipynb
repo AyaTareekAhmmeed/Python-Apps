{
  "nbformat": 4,
  "nbformat_minor": 0,
  "metadata": {
    "colab": {
      "provenance": []
    },
    "kernelspec": {
      "name": "python3",
      "display_name": "Python 3"
    },
    "language_info": {
      "name": "python"
    }
  },
  "cells": [
    {
      "cell_type": "code",
      "execution_count": 1,
      "metadata": {
        "colab": {
          "base_uri": "https://localhost:8080/"
        },
        "id": "NaCN7CeUjmG_",
        "outputId": "de48a93f-d16c-4f78-dde9-2bcc19f180e9"
      },
      "outputs": [
        {
          "output_type": "stream",
          "name": "stdout",
          "text": [
            "Collecting yt-dlp\n",
            "  Downloading yt_dlp-2025.7.21-py3-none-any.whl.metadata (175 kB)\n",
            "\u001b[?25l     \u001b[90m━━━━━━━━━━━━━━━━━━━━━━━━━━━━━━━━━━━━━━━━\u001b[0m \u001b[32m0.0/175.4 kB\u001b[0m \u001b[31m?\u001b[0m eta \u001b[36m-:--:--\u001b[0m\r\u001b[2K     \u001b[91m━━━━━━━━━━━━━━━━━━━━━━━━━━━━━━━━━━━━━━\u001b[0m\u001b[91m╸\u001b[0m \u001b[32m174.1/175.4 kB\u001b[0m \u001b[31m5.9 MB/s\u001b[0m eta \u001b[36m0:00:01\u001b[0m\r\u001b[2K     \u001b[90m━━━━━━━━━━━━━━━━━━━━━━━━━━━━━━━━━━━━━━━\u001b[0m \u001b[32m175.4/175.4 kB\u001b[0m \u001b[31m3.9 MB/s\u001b[0m eta \u001b[36m0:00:00\u001b[0m\n",
            "\u001b[?25hDownloading yt_dlp-2025.7.21-py3-none-any.whl (3.3 MB)\n",
            "\u001b[2K   \u001b[90m━━━━━━━━━━━━━━━━━━━━━━━━━━━━━━━━━━━━━━━━\u001b[0m \u001b[32m3.3/3.3 MB\u001b[0m \u001b[31m42.7 MB/s\u001b[0m eta \u001b[36m0:00:00\u001b[0m\n",
            "\u001b[?25hInstalling collected packages: yt-dlp\n",
            "Successfully installed yt-dlp-2025.7.21\n"
          ]
        }
      ],
      "source": [
        "!pip install -U yt-dlp"
      ]
    },
    {
      "cell_type": "code",
      "source": [
        "import yt_dlp\n",
        "\n",
        "def download_youtube_audio(video_url, save_path=\".\"):\n",
        "    try:\n",
        "        ydl_opts = {\n",
        "            'format': 'bestaudio/best',  # Only best audio\n",
        "            'outtmpl': f'{save_path}/%(title)s.%(ext)s',  # Output filename\n",
        "            'noplaylist': True,  # Avoid playlist download\n",
        "            'quiet': False,      # Show progress\n",
        "\n",
        "            # Convert to mp3 after download\n",
        "            'postprocessors': [{\n",
        "                'key': 'FFmpegExtractAudio',\n",
        "                'preferredcodec': 'mp3',\n",
        "                'preferredquality': '192',\n",
        "            }]\n",
        "        }\n",
        "\n",
        "        with yt_dlp.YoutubeDL(ydl_opts) as ydl:\n",
        "            ydl.download([video_url])\n",
        "\n",
        "        print(\"✅ Audio downloaded successfully!\")\n",
        "\n",
        "    except Exception as e:\n",
        "        print(f\"❌ Error: {e}\")\n",
        "\n",
        "if __name__ == \"__main__\":\n",
        "    url = input(\"🔗 Enter the YouTube video URL: \").strip()\n",
        "    download_youtube_audio(url)\n"
      ],
      "metadata": {
        "colab": {
          "base_uri": "https://localhost:8080/"
        },
        "id": "RxZMCOmdjxTT",
        "outputId": "db36b12a-53df-4b50-d07f-6901772f5dfd"
      },
      "execution_count": 2,
      "outputs": [
        {
          "output_type": "stream",
          "name": "stdout",
          "text": [
            "🔗 Enter the YouTube video URL: https://youtu.be/RbIpreEt43o?feature=shared\n",
            "[youtube] Extracting URL: https://youtu.be/RbIpreEt43o?feature=shared\n",
            "[youtube] RbIpreEt43o: Downloading webpage\n",
            "[youtube] RbIpreEt43o: Downloading tv client config\n",
            "[youtube] RbIpreEt43o: Downloading player 662eb823-main\n",
            "[youtube] RbIpreEt43o: Downloading tv player API JSON\n",
            "[youtube] RbIpreEt43o: Downloading ios player API JSON\n",
            "[youtube] RbIpreEt43o: Downloading m3u8 information\n",
            "[info] RbIpreEt43o: Downloading 1 format(s): 251\n",
            "[download] Destination: ./Amer Mounib - Gait Ala Bali ｜ عامر منيب - جيت على بالي.webm\n",
            "[download] 100% of    4.95MiB in 00:00:00 at 23.28MiB/s  \n",
            "[ExtractAudio] Destination: ./Amer Mounib - Gait Ala Bali ｜ عامر منيب - جيت على بالي.mp3\n",
            "Deleting original file ./Amer Mounib - Gait Ala Bali ｜ عامر منيب - جيت على بالي.webm (pass -k to keep)\n",
            "✅ Audio downloaded successfully!\n"
          ]
        }
      ]
    },
    {
      "cell_type": "code",
      "source": [],
      "metadata": {
        "id": "0Tr3SoYij7vS"
      },
      "execution_count": null,
      "outputs": []
    }
  ]
}