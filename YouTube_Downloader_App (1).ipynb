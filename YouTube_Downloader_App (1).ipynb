{
  "nbformat": 4,
  "nbformat_minor": 0,
  "metadata": {
    "colab": {
      "provenance": []
    },
    "kernelspec": {
      "name": "python3",
      "display_name": "Python 3"
    },
    "language_info": {
      "name": "python"
    }
  },
  "cells": [
    {
      "cell_type": "code",
      "source": [
        "!pip install -U yt-dlp\n",
        "!apt-get install ffmpeg -y"
      ],
      "metadata": {
        "colab": {
          "base_uri": "https://localhost:8080/"
        },
        "id": "67VZzNcrfSex",
        "outputId": "572840d3-77b9-47bb-9431-b6b50bb37b31"
      },
      "execution_count": 9,
      "outputs": [
        {
          "output_type": "stream",
          "name": "stdout",
          "text": [
            "Requirement already satisfied: yt-dlp in /usr/local/lib/python3.11/dist-packages (2025.7.21)\n",
            "Reading package lists... Done\n",
            "Building dependency tree... Done\n",
            "Reading state information... Done\n",
            "ffmpeg is already the newest version (7:4.4.2-0ubuntu0.22.04.1).\n",
            "0 upgraded, 0 newly installed, 0 to remove and 35 not upgraded.\n"
          ]
        }
      ]
    },
    {
      "cell_type": "code",
      "execution_count": 12,
      "metadata": {
        "colab": {
          "base_uri": "https://localhost:8080/"
        },
        "id": "Pz7_97-yeSLK",
        "outputId": "3686993f-dc1a-4803-f83e-78f37266d5de"
      },
      "outputs": [
        {
          "output_type": "stream",
          "name": "stdout",
          "text": [
            "🔗 Enter the YouTube video URL: https://youtu.be/RbIpreEt43o?feature=shared\n",
            "[youtube] Extracting URL: https://youtu.be/RbIpreEt43o?feature=shared\n",
            "[youtube] RbIpreEt43o: Downloading webpage\n",
            "[youtube] RbIpreEt43o: Downloading tv client config\n",
            "[youtube] RbIpreEt43o: Downloading tv player API JSON\n",
            "[youtube] RbIpreEt43o: Downloading ios player API JSON\n",
            "[youtube] RbIpreEt43o: Downloading m3u8 information\n",
            "[info] Testing format 616\n",
            "[info] RbIpreEt43o: Downloading 1 format(s): 616+251\n",
            "[hlsnative] Downloading m3u8 manifest\n",
            "[hlsnative] Total fragments: 44\n",
            "[download] Destination: ./Amer Mounib - Gait Ala Bali ｜ عامر منيب - جيت على بالي.f616.mp4\n",
            "[download] 100% of   13.31MiB in 00:00:03 at 3.99MiB/s                 \n",
            "[download] Destination: ./Amer Mounib - Gait Ala Bali ｜ عامر منيب - جيت على بالي.f251.webm\n",
            "[download] 100% of    4.95MiB in 00:00:00 at 5.38MiB/s   \n",
            "[Merger] Merging formats into \"./Amer Mounib - Gait Ala Bali ｜ عامر منيب - جيت على بالي.mp4\"\n",
            "Deleting original file ./Amer Mounib - Gait Ala Bali ｜ عامر منيب - جيت على بالي.f251.webm (pass -k to keep)\n",
            "Deleting original file ./Amer Mounib - Gait Ala Bali ｜ عامر منيب - جيت على بالي.f616.mp4 (pass -k to keep)\n",
            "[VideoConvertor] Not converting media file \"./Amer Mounib - Gait Ala Bali ｜ عامر منيب - جيت على بالي.mp4\"; already is in target format mp4\n",
            "✅ Download completed successfully!\n"
          ]
        }
      ],
      "source": [
        "import yt_dlp\n",
        "\n",
        "def download_youtube_video(video_url, save_path=\".\"):\n",
        "    try:\n",
        "        ydl_opts = {\n",
        "            'format': 'bestvideo+bestaudio/best',     # Download best quality video+audio\n",
        "            'outtmpl': f'{save_path}/%(title)s.%(ext)s',  # Save as \"Title.mp4\"\n",
        "            'merge_output_format': 'mp4',              # Force merge to mp4 format\n",
        "            'postprocessors': [{\n",
        "                'key': 'FFmpegVideoConvertor',\n",
        "                'preferedformat': 'mp4'\n",
        "            }],\n",
        "            'noplaylist': True,                        # Only download single video\n",
        "            'quiet': False                             # Show download progress\n",
        "        }\n",
        "\n",
        "        with yt_dlp.YoutubeDL(ydl_opts) as ydl:\n",
        "            ydl.download([video_url])\n",
        "\n",
        "        print(\"✅ Download completed successfully!\")\n",
        "\n",
        "    except Exception as e:\n",
        "        print(f\"❌ Error: {e}\")\n",
        "\n",
        "if __name__ == \"__main__\":\n",
        "    url = input(\"🔗 Enter the YouTube video URL: \").strip()\n",
        "    download_youtube_video(url)\n"
      ]
    },
    {
      "cell_type": "code",
      "source": [],
      "metadata": {
        "id": "UcNZMVjBfaQP"
      },
      "execution_count": null,
      "outputs": []
    }
  ]
}